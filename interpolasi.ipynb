{
 "cells": [
  {
   "cell_type": "markdown",
   "metadata": {},
   "source": [
    "# Interpolasi"
   ]
  },
  {
   "cell_type": "markdown",
   "metadata": {},
   "source": [
    "## Interpolasi lagrange"
   ]
  },
  {
   "cell_type": "code",
   "execution_count": 7,
   "metadata": {},
   "outputs": [],
   "source": [
    "E=lambda h:sum(h)\n",
    "def PI(h):\n",
    "    hsl=1\n",
    "    for ex in h:\n",
    "        hsl=hsl * ex\n",
    "    return hsl\n",
    "\n",
    "def L(i,hx,x):\n",
    "  n=len(hx)\n",
    "  hl=[]\n",
    "  for j in range(n):\n",
    "    if j!=i:\n",
    "      pb=(x-hx[j])\n",
    "      ps=(hx[i]-hx[j])\n",
    "      hl.append(pb/ps)\n",
    "      #endif\n",
    "    #endfor\n",
    "  return PI(hl)\n",
    "\n",
    "def langrange(hx,hy,x):\n",
    "  hl=[(hy[i]*L(i,hx,x))for i in range(len(hx))]\n",
    "  return E(hl)\n"
   ]
  },
  {
   "cell_type": "markdown",
   "metadata": {},
   "source": [
    "## Interpolasi Newton"
   ]
  },
  {
   "cell_type": "code",
   "execution_count": 83,
   "metadata": {},
   "outputs": [],
   "source": [
    "f=lambda x:2.07944+0.11778*(x-8)-0.00643*(x-8)*(x-9)+0.00041*(x-8)*(x-9)*(x-9.5)\n",
    "xx=[8,9,9.5,11]"
   ]
  },
  {
   "cell_type": "code",
   "execution_count": 84,
   "metadata": {},
   "outputs": [
    {
     "data": {
      "text/plain": [
       "[8, 9, 9.5, 11]"
      ]
     },
     "execution_count": 84,
     "metadata": {},
     "output_type": "execute_result"
    }
   ],
   "source": [
    "xx"
   ]
  },
  {
   "cell_type": "code",
   "execution_count": 85,
   "metadata": {},
   "outputs": [
    {
     "data": {
      "text/plain": [
       "2.07944"
      ]
     },
     "execution_count": 85,
     "metadata": {},
     "output_type": "execute_result"
    }
   ],
   "source": [
    "yy=[2.079442,2.197225,2.251292,2.397895]\n",
    "f(8)"
   ]
  },
  {
   "cell_type": "code",
   "execution_count": 104,
   "metadata": {},
   "outputs": [],
   "source": [
    "def interpolasinewton(hx,hy,x):\n",
    "    a=hy[:] #menyalin isi array\n",
    "    n=len(hx)\n",
    "    for i in range(1,n): #perhitungan a[1] sampai a[n-1]\n",
    "        for j in range(n-1,i-1,-1): #perhitungan mundur a[n-1] ke a[1]\n",
    "            a[j]=(a[j]-a[j-1])/(hx[j]-hx[j-i])\n",
    "    hsl=a[0]\n",
    "    poly=1\n",
    "    for i in range(1,n):\n",
    "        poly = poly * (x-hx[i-1])\n",
    "        hsl = hsl + poly * a[i]\n",
    "    return hsl\n",
    "\n",
    "\n"
   ]
  },
  {
   "cell_type": "code",
   "execution_count": 105,
   "metadata": {},
   "outputs": [
    {
     "data": {
      "text/plain": [
       "[8, 9, 9.5, 11]"
      ]
     },
     "execution_count": 105,
     "metadata": {},
     "output_type": "execute_result"
    }
   ],
   "source": [
    "xx"
   ]
  },
  {
   "cell_type": "code",
   "execution_count": 106,
   "metadata": {},
   "outputs": [
    {
     "data": {
      "text/plain": [
       "[2.079442, 2.197225, 2.251292, 2.397895]"
      ]
     },
     "execution_count": 106,
     "metadata": {},
     "output_type": "execute_result"
    }
   ],
   "source": [
    "yy"
   ]
  },
  {
   "cell_type": "code",
   "execution_count": 107,
   "metadata": {},
   "outputs": [
    {
     "data": {
      "text/plain": [
       "2.197225"
      ]
     },
     "execution_count": 107,
     "metadata": {},
     "output_type": "execute_result"
    }
   ],
   "source": [
    "interpolasinewton(xx, yy ,9)    "
   ]
  },
  {
   "cell_type": "code",
   "execution_count": 108,
   "metadata": {},
   "outputs": [
    {
     "data": {
      "text/plain": [
       "2.079442"
      ]
     },
     "execution_count": 108,
     "metadata": {},
     "output_type": "execute_result"
    }
   ],
   "source": [
    "interpolasinewton(xx, yy ,8)"
   ]
  },
  {
   "cell_type": "code",
   "execution_count": 109,
   "metadata": {},
   "outputs": [
    {
     "data": {
      "text/plain": [
       "2.251292"
      ]
     },
     "execution_count": 109,
     "metadata": {},
     "output_type": "execute_result"
    }
   ],
   "source": [
    "interpolasinewton(xx, yy ,9.5)"
   ]
  },
  {
   "cell_type": "code",
   "execution_count": 110,
   "metadata": {},
   "outputs": [
    {
     "data": {
      "text/plain": [
       "2.397895"
      ]
     },
     "execution_count": 110,
     "metadata": {},
     "output_type": "execute_result"
    }
   ],
   "source": [
    "interpolasinewton(xx, yy ,11)"
   ]
  }
 ],
 "metadata": {
  "interpreter": {
   "hash": "0ebff28e3287cc2d01894e57a9230499116e6b16bef7d5552fe446e1376074bb"
  },
  "kernelspec": {
   "display_name": "Python 3.8.12 64-bit ('base': conda)",
   "name": "python3"
  },
  "language_info": {
   "codemirror_mode": {
    "name": "ipython",
    "version": 3
   },
   "file_extension": ".py",
   "mimetype": "text/x-python",
   "name": "python",
   "nbconvert_exporter": "python",
   "pygments_lexer": "ipython3",
   "version": "3.8.12"
  },
  "orig_nbformat": 4
 },
 "nbformat": 4,
 "nbformat_minor": 2
}
